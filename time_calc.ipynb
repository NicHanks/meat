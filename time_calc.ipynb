{
 "cells": [
  {
   "cell_type": "markdown",
   "metadata": {},
   "source": [
    "# Time Calculator"
   ]
  },
  {
   "cell_type": "code",
   "execution_count": null,
   "metadata": {},
   "outputs": [],
   "source": [
    "import numpy as np\n",
    "import pandas as pd\n",
    "import matplotlib.pyplot as plt\n",
    "import tkinter"
   ]
  },
  {
   "cell_type": "code",
   "execution_count": null,
   "metadata": {},
   "outputs": [
    {
     "name": "stdout",
     "output_type": "stream",
     "text": [
      "9 72 150000000 seconds\n",
      "Okay, now, tell me the name of the cut: \n"
     ]
    }
   ],
   "source": [
    "\n",
    "# MEAT cutting time calculator\n",
    "\n",
    "def create_type_of_slice(time_it_takes_to_slices):\n",
    "    \"\"\"Return a function that can calculate how long it's going to take\"\"\"\n",
    "\n",
    "    # Define inner_echo\n",
    "    def number_of_slices(number_of_slices):\n",
    "        \"\"\"Calculates time it takes to cut\"\"\"\n",
    "        total_time = time_it_takes_to_slices * number_of_slices\n",
    "        return total_time\n",
    "\n",
    "    # Return inner_echo\n",
    "    return number_of_slices\n",
    "\n",
    "# easy cut\n",
    "cut1 = create_type_of_slice(3)\n",
    "\n",
    "# tougher cut to do so it takes more time\n",
    "cut2 = create_type_of_slice(9)\n",
    "\n",
    "# Calculates time to do 3 cuts with a \"cut1\" type\n",
    "print(cut1(3), cut2(8),cut1(50000000),\"seconds\")\n",
    "\n",
    "name_of_cut = input(print(\"Okay, now, tell me the name of the cut: \"))\n",
    "time_to_make_that_cut = int(input(print(\"That's great! Now tell me how long it takes to make that cut: (in seconds) \")))\n",
    "number_of_cuts = int(input(print(\"Now one last thing, how many cuts do you plan to make? \")))\n",
    "users_cut = create_type_of_slice(time_to_make_that_cut)\n",
    "\n",
    "\n",
    "user = create_type_of_slice(name_of_cut)\n",
    "print(f\"Congratulations on using nic's software! to complete {number_of_cuts} {name_of_cut} cuts it would take {str(users_cut(number_of_cuts))} seconds. \")\n",
    "\n",
    "#Next, create a list for the users to pick and choose from | and make sure when they're about to pic, they know how long it takes to make the cut. \n"
   ]
  }
 ],
 "metadata": {
  "kernelspec": {
   "display_name": "myenv",
   "language": "python",
   "name": "python3"
  },
  "language_info": {
   "codemirror_mode": {
    "name": "ipython",
    "version": 3
   },
   "file_extension": ".py",
   "mimetype": "text/x-python",
   "name": "python",
   "nbconvert_exporter": "python",
   "pygments_lexer": "ipython3",
   "version": "3.13.0"
  }
 },
 "nbformat": 4,
 "nbformat_minor": 2
}
